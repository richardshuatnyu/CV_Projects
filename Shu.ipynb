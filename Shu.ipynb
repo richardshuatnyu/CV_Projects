{
 "cells": [
  {
   "cell_type": "markdown",
   "metadata": {},
   "source": [
    "# Visualizing Price Changes a la Reis (2006)\n",
    "\n",
    "**Richard Shu**\n",
    "\n",
    "This project will graphically demonstrate how price adjustments occur in an economy where producers have an imperfect picture of the economy. This model is in many ways more realistic than traditional economic models of price-setting, wherein producers are perfectly cognizant of the state of the world at all stages and are able to optimize with respect to that state. But in the real world, gathering information about the economy can be difficult and costly. This model of price-setting, as described by Reis's paper \"Inattentive Producers,\" assumes that agents are entirely ignorant of the state of the world until they pay a fixed cost. At that point, the agent knows the state of the current period and all periods in the past. The important question then becomes when it is right for an agent to update, and what the prices will look like as a result.\n",
    "\n",
    "Most of my findings will be adapted from Laura Veldkamp's textbook \"Information Choice in Macroeconomics and Finance,\" where she presents a stripped-down version of the Reis model."
   ]
  },
  {
   "cell_type": "code",
   "execution_count": 102,
   "metadata": {
    "collapsed": false
   },
   "outputs": [
    {
     "name": "stdout",
     "output_type": "stream",
     "text": [
      "Python version:  3.5.1 |Anaconda 4.0.0 (64-bit)| (default, Feb 16 2016, 09:49:46) [MSC v.1900 64 bit (AMD64)]\n",
      "Pandas version:  0.18.0\n"
     ]
    }
   ],
   "source": [
    "import numpy.random as rand\n",
    "import matplotlib.pyplot as plt\n",
    "import pandas as pd\n",
    "import sys\n",
    "\n",
    "%matplotlib inline                     \n",
    "\n",
    "print('Python version: ', sys.version)\n",
    "print('Pandas version: ', pd.__version__)\n",
    "\n",
    "plt.style.use('seaborn-dark-palette')"
   ]
  },
  {
   "cell_type": "markdown",
   "metadata": {},
   "source": [
    "The model depicts an economy with multiple periods and an infinite number of producers, all of whom are trying to set prices as close as possible to some target price. This target price is given by a linear combination of demand and average price:\n",
    "\n",
    "p(t) = (1-r) \\* m(t) + r *p_avg(t)\n",
    "\n",
    "Determining this target price is thus contingent on both demand and average price. Demand is modeled as a random walk, with each period receiving a normally-distributed natural-log demand 'shock' epsilon. The code below models this demand structure."
   ]
  },
  {
   "cell_type": "code",
   "execution_count": 103,
   "metadata": {
    "collapsed": true
   },
   "outputs": [],
   "source": [
    "variance = .25 #sets variance of epsilon\n",
    "pds = 100 #sets number of periods\n",
    "r = .7 #sets relative weight of average price on target price\n",
    "\n",
    "shocklist = []\n",
    "cumulist = []\n",
    "dum_variable = 0\n",
    "for numba in range(pds):\n",
    "    e = rand.normal(loc = 0.0, scale = variance, size = None) \n",
    "    #each log epsilon shock is a normally distributed random variable centered at 0\n",
    "    shocklist.append(e)\n",
    "for elem in shocklist:\n",
    "    dum_variable += elem\n",
    "    #This accumulates every epsilon leading up to the period \n",
    "    #makes up the random walk\n",
    "    cumulist.append(dum_variable)\n",
    "demand = pd.DataFrame({'Period shocks': shocklist, 'Cumulative demand': cumulist})"
   ]
  },
  {
   "cell_type": "code",
   "execution_count": 104,
   "metadata": {
    "collapsed": false
   },
   "outputs": [
    {
     "data": {
      "text/html": [
       "<div>\n",
       "<table border=\"1\" class=\"dataframe\">\n",
       "  <thead>\n",
       "    <tr style=\"text-align: right;\">\n",
       "      <th></th>\n",
       "      <th>Cumulative demand</th>\n",
       "      <th>Period shocks</th>\n",
       "    </tr>\n",
       "  </thead>\n",
       "  <tbody>\n",
       "    <tr>\n",
       "      <th>0</th>\n",
       "      <td>-0.399466</td>\n",
       "      <td>-0.399466</td>\n",
       "    </tr>\n",
       "    <tr>\n",
       "      <th>1</th>\n",
       "      <td>-0.501537</td>\n",
       "      <td>-0.102071</td>\n",
       "    </tr>\n",
       "    <tr>\n",
       "      <th>2</th>\n",
       "      <td>-0.734734</td>\n",
       "      <td>-0.233197</td>\n",
       "    </tr>\n",
       "    <tr>\n",
       "      <th>3</th>\n",
       "      <td>-0.506725</td>\n",
       "      <td>0.228009</td>\n",
       "    </tr>\n",
       "    <tr>\n",
       "      <th>4</th>\n",
       "      <td>-0.256434</td>\n",
       "      <td>0.250291</td>\n",
       "    </tr>\n",
       "  </tbody>\n",
       "</table>\n",
       "</div>"
      ],
      "text/plain": [
       "   Cumulative demand  Period shocks\n",
       "0          -0.399466      -0.399466\n",
       "1          -0.501537      -0.102071\n",
       "2          -0.734734      -0.233197\n",
       "3          -0.506725       0.228009\n",
       "4          -0.256434       0.250291"
      ]
     },
     "execution_count": 104,
     "metadata": {},
     "output_type": "execute_result"
    }
   ],
   "source": [
    "demand.head()"
   ]
  },
  {
   "cell_type": "markdown",
   "metadata": {},
   "source": [
    "What we have now is a pandas dataframe containing the randomly-generated demand shocks and the demand, which is the result of the accumulation of those shocks in each period. Every time the cell is run, a new demand series will be generated.\n",
    "\n",
    "The path of demand can be seen below:"
   ]
  },
  {
   "cell_type": "code",
   "execution_count": 105,
   "metadata": {
    "collapsed": false
   },
   "outputs": [
    {
     "data": {
      "text/plain": [
       "<matplotlib.axes._subplots.AxesSubplot at 0x21386721da0>"
      ]
     },
     "execution_count": 105,
     "metadata": {},
     "output_type": "execute_result"
    },
    {
     "data": {
      "image/png": "[encoded data removed]",
      "text/plain": [
       "<matplotlib.figure.Figure at 0x213866f8630>"
      ]
     },
     "metadata": {},
     "output_type": "display_data"
    }
   ],
   "source": [
    "fig, ax = plt.subplots()\n",
    "ax.set_title('Demand')\n",
    "ax.set_xlabel('t (Period)')\n",
    "ax.set_ylabel('Demand (Natural Log, Normalized)')\n",
    "demand['Cumulative demand'].plot(kind = 'line',\n",
    "                                 ax = ax,\n",
    "                                 legend = False,)"
   ]
  },
  {
   "cell_type": "markdown",
   "metadata": {},
   "source": [
    "The next step is to model the target price, which can be quite nasty. \n",
    "\n",
    "The crux of the Reis model is the idea of inattention. Producers have a very specific, and very limited information set -- unlike traditional economics which presumes that agents are perfectly cognizant of the state of the world. Instead, Reis incorporates an information constraint known as \"inattention\". Every period, each agent has the option to pay a fixed cost c to learn everything about demand from that period backwards. This cost disincentivizes firms from just updating every period -- sometimes they'll just determine that it's not worth it. \n",
    "\n",
    "But when they do pay, they don't learn anything else until they pay again. This means that at any given time, only a certain fraction of the producers are totally up-to-date on the demand. \n",
    "\n",
    "In addition, no one can directly observe average prices of the period. However, as Reis works out, with common knowledge producers can derive the average price from observing the updating pattern of the other producers.\n",
    "\n",
    "One of the infinitely many equilibria that can arise from this game is that no one updates until a fixed point T. At T, everyone updates. Every period after, some fraction 1/T of the producers update their information. The critical value from this behavior is L(t, tau), which is the fraction of producers who have updated their information from tau to t. In this case, it can be given as the following: "
   ]
  },
  {
   "cell_type": "code",
   "execution_count": 106,
   "metadata": {
    "collapsed": true
   },
   "outputs": [],
   "source": [
    "T = 10 #can adjust this\n",
    "\n",
    "def L(t, tau):\n",
    "    if t >= T: \n",
    "        if tau <= T: lam = 1\n",
    "        else: lam = (1-(1-T**-1)**(t-tau)) #derived from each period's update proportion being independent\n",
    "    else: lam = 0\n",
    "    return lam "
   ]
  },
  {
   "cell_type": "markdown",
   "metadata": {},
   "source": [
    "With the pattern of updating in the macroeconomy thus defined, we can evaluate the value of average price, which at each period is a weighted accumulation of the epsilon shocks. Each period's shock is weighed both by how important coordination is in the target price (value of r) and how many other people are up to date on demand (L), the idea being that one period's shock may not matter that much if, during that period, not many other people are aware of it. "
   ]
  },
  {
   "cell_type": "code",
   "execution_count": 107,
   "metadata": {
    "collapsed": false
   },
   "outputs": [],
   "source": [
    "def eps(t): #finds the float value of the period t shock\n",
    "    return float(demand['Period shocks'][demand.index == t])\n",
    "\n",
    "def p_avg(t): #average price\n",
    "    return sum([((L(t,s)*(1-r))/(1-(r*L(t,s))))*eps(s) for s in range(t)])    \n",
    "#formula for average price was outlined in Veldkamp (2014)\n",
    "demand['Average price'] = [p_avg(t) for t in range(pds)]"
   ]
  },
  {
   "cell_type": "markdown",
   "metadata": {},
   "source": [
    "We can thus define target price as above."
   ]
  },
  {
   "cell_type": "code",
   "execution_count": 108,
   "metadata": {
    "collapsed": true
   },
   "outputs": [],
   "source": [
    "def p_target(t):\n",
    "    m = float(demand['Cumulative demand'][demand.index == t])\n",
    "    tar = (1-r)*m + r*p_avg(t)\n",
    "    #p_target as defined in the original problem; linear combination of demand and p_avg\n",
    "    return tar"
   ]
  },
  {
   "cell_type": "code",
   "execution_count": 109,
   "metadata": {
    "collapsed": true
   },
   "outputs": [],
   "source": [
    "demand['Target price'] = [p_target(t) for t in range(pds)]\n",
    "#Now the table for demand has four columns:\n",
    "#Cumulative demand, period shocks, average prices, target prices"
   ]
  },
  {
   "cell_type": "code",
   "execution_count": 110,
   "metadata": {
    "collapsed": false
   },
   "outputs": [
    {
     "data": {
      "text/html": [
       "<div>\n",
       "<table border=\"1\" class=\"dataframe\">\n",
       "  <thead>\n",
       "    <tr style=\"text-align: right;\">\n",
       "      <th></th>\n",
       "      <th>Cumulative demand</th>\n",
       "      <th>Period shocks</th>\n",
       "      <th>Average price</th>\n",
       "      <th>Target price</th>\n",
       "    </tr>\n",
       "  </thead>\n",
       "  <tbody>\n",
       "    <tr>\n",
       "      <th>0</th>\n",
       "      <td>-0.399466</td>\n",
       "      <td>-0.399466</td>\n",
       "      <td>0.000000</td>\n",
       "      <td>-0.119840</td>\n",
       "    </tr>\n",
       "    <tr>\n",
       "      <th>1</th>\n",
       "      <td>-0.501537</td>\n",
       "      <td>-0.102071</td>\n",
       "      <td>0.000000</td>\n",
       "      <td>-0.150461</td>\n",
       "    </tr>\n",
       "    <tr>\n",
       "      <th>2</th>\n",
       "      <td>-0.734734</td>\n",
       "      <td>-0.233197</td>\n",
       "      <td>0.000000</td>\n",
       "      <td>-0.220420</td>\n",
       "    </tr>\n",
       "    <tr>\n",
       "      <th>3</th>\n",
       "      <td>-0.506725</td>\n",
       "      <td>0.228009</td>\n",
       "      <td>0.000000</td>\n",
       "      <td>-0.152018</td>\n",
       "    </tr>\n",
       "    <tr>\n",
       "      <th>4</th>\n",
       "      <td>-0.256434</td>\n",
       "      <td>0.250291</td>\n",
       "      <td>0.000000</td>\n",
       "      <td>-0.076930</td>\n",
       "    </tr>\n",
       "    <tr>\n",
       "      <th>5</th>\n",
       "      <td>-0.341528</td>\n",
       "      <td>-0.085094</td>\n",
       "      <td>0.000000</td>\n",
       "      <td>-0.102459</td>\n",
       "    </tr>\n",
       "    <tr>\n",
       "      <th>6</th>\n",
       "      <td>0.043829</td>\n",
       "      <td>0.385357</td>\n",
       "      <td>0.000000</td>\n",
       "      <td>0.013149</td>\n",
       "    </tr>\n",
       "    <tr>\n",
       "      <th>7</th>\n",
       "      <td>0.266625</td>\n",
       "      <td>0.222796</td>\n",
       "      <td>0.000000</td>\n",
       "      <td>0.079988</td>\n",
       "    </tr>\n",
       "    <tr>\n",
       "      <th>8</th>\n",
       "      <td>0.497813</td>\n",
       "      <td>0.231187</td>\n",
       "      <td>0.000000</td>\n",
       "      <td>0.149344</td>\n",
       "    </tr>\n",
       "    <tr>\n",
       "      <th>9</th>\n",
       "      <td>0.462572</td>\n",
       "      <td>-0.035241</td>\n",
       "      <td>0.000000</td>\n",
       "      <td>0.138772</td>\n",
       "    </tr>\n",
       "    <tr>\n",
       "      <th>10</th>\n",
       "      <td>0.543737</td>\n",
       "      <td>0.081166</td>\n",
       "      <td>0.462572</td>\n",
       "      <td>0.486921</td>\n",
       "    </tr>\n",
       "    <tr>\n",
       "      <th>11</th>\n",
       "      <td>0.492513</td>\n",
       "      <td>-0.051225</td>\n",
       "      <td>0.543737</td>\n",
       "      <td>0.528370</td>\n",
       "    </tr>\n",
       "    <tr>\n",
       "      <th>12</th>\n",
       "      <td>0.542146</td>\n",
       "      <td>0.049633</td>\n",
       "      <td>0.542085</td>\n",
       "      <td>0.542103</td>\n",
       "    </tr>\n",
       "    <tr>\n",
       "      <th>13</th>\n",
       "      <td>0.608160</td>\n",
       "      <td>0.066014</td>\n",
       "      <td>0.541971</td>\n",
       "      <td>0.561828</td>\n",
       "    </tr>\n",
       "    <tr>\n",
       "      <th>14</th>\n",
       "      <td>0.905277</td>\n",
       "      <td>0.297117</td>\n",
       "      <td>0.543990</td>\n",
       "      <td>0.652376</td>\n",
       "    </tr>\n",
       "    <tr>\n",
       "      <th>15</th>\n",
       "      <td>1.000480</td>\n",
       "      <td>0.095204</td>\n",
       "      <td>0.555681</td>\n",
       "      <td>0.689121</td>\n",
       "    </tr>\n",
       "    <tr>\n",
       "      <th>16</th>\n",
       "      <td>0.725733</td>\n",
       "      <td>-0.274748</td>\n",
       "      <td>0.570888</td>\n",
       "      <td>0.617341</td>\n",
       "    </tr>\n",
       "    <tr>\n",
       "      <th>17</th>\n",
       "      <td>0.727656</td>\n",
       "      <td>0.001924</td>\n",
       "      <td>0.577747</td>\n",
       "      <td>0.622720</td>\n",
       "    </tr>\n",
       "    <tr>\n",
       "      <th>18</th>\n",
       "      <td>0.779832</td>\n",
       "      <td>0.052176</td>\n",
       "      <td>0.584783</td>\n",
       "      <td>0.643298</td>\n",
       "    </tr>\n",
       "    <tr>\n",
       "      <th>19</th>\n",
       "      <td>0.531193</td>\n",
       "      <td>-0.248639</td>\n",
       "      <td>0.593577</td>\n",
       "      <td>0.574862</td>\n",
       "    </tr>\n",
       "  </tbody>\n",
       "</table>\n",
       "</div>"
      ],
      "text/plain": [
       "    Cumulative demand  Period shocks  Average price  Target price\n",
       "0           -0.399466      -0.399466       0.000000     -0.119840\n",
       "1           -0.501537      -0.102071       0.000000     -0.150461\n",
       "2           -0.734734      -0.233197       0.000000     -0.220420\n",
       "3           -0.506725       0.228009       0.000000     -0.152018\n",
       "4           -0.256434       0.250291       0.000000     -0.076930\n",
       "5           -0.341528      -0.085094       0.000000     -0.102459\n",
       "6            0.043829       0.385357       0.000000      0.013149\n",
       "7            0.266625       0.222796       0.000000      0.079988\n",
       "8            0.497813       0.231187       0.000000      0.149344\n",
       "9            0.462572      -0.035241       0.000000      0.138772\n",
       "10           0.543737       0.081166       0.462572      0.486921\n",
       "11           0.492513      -0.051225       0.543737      0.528370\n",
       "12           0.542146       0.049633       0.542085      0.542103\n",
       "13           0.608160       0.066014       0.541971      0.561828\n",
       "14           0.905277       0.297117       0.543990      0.652376\n",
       "15           1.000480       0.095204       0.555681      0.689121\n",
       "16           0.725733      -0.274748       0.570888      0.617341\n",
       "17           0.727656       0.001924       0.577747      0.622720\n",
       "18           0.779832       0.052176       0.584783      0.643298\n",
       "19           0.531193      -0.248639       0.593577      0.574862"
      ]
     },
     "execution_count": 110,
     "metadata": {},
     "output_type": "execute_result"
    }
   ],
   "source": [
    "demand.head(2 * T)"
   ]
  },
  {
   "cell_type": "markdown",
   "metadata": {},
   "source": [
    "But tables can only tell us so much. Graphs are much more revealing. "
   ]
  },
  {
   "cell_type": "code",
   "execution_count": 111,
   "metadata": {
    "collapsed": false
   },
   "outputs": [
    {
     "data": {
      "text/plain": [
       "<matplotlib.axes._subplots.AxesSubplot at 0x21386792390>"
      ]
     },
     "execution_count": 111,
     "metadata": {},
     "output_type": "execute_result"
    },
    {
     "data": {
      "image/png": "[encoded data removed]",
      "text/plain": [
       "<matplotlib.figure.Figure at 0x2138676ddd8>"
      ]
     },
     "metadata": {},
     "output_type": "display_data"
    }
   ],
   "source": [
    "fig1, ax1 = plt.subplots()\n",
    "ax1.set_xlabel('Period')\n",
    "ax1.set_ylabel('Demand/Price (Natural Log, Normalized)')\n",
    "\n",
    "demand[[\"Cumulative demand\", \"Target price\"]].plot(kind = 'line', ax = ax1)"
   ]
  },
  {
   "cell_type": "markdown",
   "metadata": {},
   "source": [
    "The shocks to cumulative demand are reflected in the variations of target price, but much less extremely, as would be expected from the formula for target price which weighs cumulative demand less than fully. \n",
    "\n",
    "Important to note is that around period T, target price jumps sharply to meet cumulative demand. This is because average price does not budge from the baseline of 0 until people start updating their information: up until T, L(t, tau) == 0, so each epsilon shock is weighted 0. This can be more easily observed in the graph below.\n",
    "\n",
    "Average price is a bit more interesting. Not only does it make up the target price, but it also chases the target price. This results in an average price that shows similar patterns to target price, but more smoothly and with a noticeable lag."
   ]
  },
  {
   "cell_type": "code",
   "execution_count": 112,
   "metadata": {
    "collapsed": false
   },
   "outputs": [
    {
     "data": {
      "text/plain": [
       "<matplotlib.axes._subplots.AxesSubplot at 0x21386711ac8>"
      ]
     },
     "execution_count": 112,
     "metadata": {},
     "output_type": "execute_result"
    },
    {
     "data": {
      "image/png": "[encoded data removed]",
      "text/plain": [
       "<matplotlib.figure.Figure at 0x213864cc8d0>"
      ]
     },
     "metadata": {},
     "output_type": "display_data"
    }
   ],
   "source": [
    "fig2, ax2 = plt.subplots()\n",
    "ax2.set_xlabel('Period')\n",
    "ax2.set_ylabel('Price (Natural Log)')\n",
    "ax2.set_ylim(ax1.get_ylim())\n",
    "\n",
    "demand[[\"Target price\", \"Average price\"]].plot(kind = 'line', ax = ax2)"
   ]
  },
  {
   "cell_type": "markdown",
   "metadata": {},
   "source": [
    "It is this lag that ultimately makes up the most important result of Reis. It demonstrates that, in this economy, firms do not respond elastically to changes in demand -- a lot of the time it's better to just go with the flow. And, in the real world, a lot of the time this is the case. The average supermarket, for example, isn't looking so much at factors in the macroeconomy when setting prices, it's looking more at the prices of their competitor down the street. Those macro factors do play in, but in a muted way, and only after other people in the economy have started to get wind of them.\n",
    "\n",
    "The second part of Reis's analysis is the behavior of an individual firm in the economy -- specifically, which points they decide to update their prices. Since updating takes a certain cost, he reasons, it must be that for a firm to update prices, they must be able to figure out that their expected loss from remaining ignorant must exceed the immediate cost of updating, which is fixed."
   ]
  },
  {
   "cell_type": "code",
   "execution_count": 113,
   "metadata": {
    "collapsed": true
   },
   "outputs": [],
   "source": [
    "c = .5"
   ]
  },
  {
   "cell_type": "markdown",
   "metadata": {},
   "source": [
    "The formula for expected loss -- that is, the possible disutility that one could get from not updating between tau_hat and t, is given by the following:"
   ]
  },
  {
   "cell_type": "code",
   "execution_count": 114,
   "metadata": {
    "collapsed": false
   },
   "outputs": [],
   "source": [
    "def Loss(t, tau_hat):\n",
    "    sm = 0\n",
    "    for k in range(tau_hat + 1, t):\n",
    "        sm += (1-r)/(1-(r*L(t, k)))\n",
    "    return sm * variance\n",
    "loss_list = [Loss(t, T) for t in range(pds)]"
   ]
  },
  {
   "cell_type": "markdown",
   "metadata": {},
   "source": [
    "Whenever the agent updates, tau_hat resets to that period, and Loss for that period becomes 0 minus the cost c. \n",
    "However, every time the agent updates, that tau_hat is increased and the loss function is reset. So for a rationally updating agent, Loss will never exceed cost c. \n",
    "\n",
    "With the loss function and cost defined, we can determine when the agent decides to update -- that is, whenever the Loss function creeps up to c. Keep in mind, however, that every time the agent updates, that tau_hat changes, and the Loss function resets. "
   ]
  },
  {
   "cell_type": "code",
   "execution_count": 115,
   "metadata": {
    "collapsed": false
   },
   "outputs": [],
   "source": [
    "loss_list1 = loss_list.copy()\n",
    "update_pds = []\n",
    "for x in range(pds):\n",
    "    if x == T:\n",
    "        tau_hat = x #predetermined point at which everyone updates\n",
    "        update_pds.append(x)\n",
    "    elif loss_list1[x] > c:\n",
    "        tau_hat = x #x becomes the new \"last period updated\"\n",
    "        update_pds.append(x)\n",
    "        loss_list1[x] = 0.0\n",
    "        for s in range(x+1, pds): #all future periods are affected by this new tau_hat\n",
    "            loss_list1[s] = Loss(s, tau_hat)\n",
    "update_check = []            \n",
    "for x in range(pds):\n",
    "    if x in update_pds: update_check.append(\"Yes\")\n",
    "    else: update_check.append(\"No\") \n",
    "        \n",
    "demand['Update?'] = update_check"
   ]
  },
  {
   "cell_type": "code",
   "execution_count": 116,
   "metadata": {
    "collapsed": false
   },
   "outputs": [
    {
     "data": {
      "text/html": [
       "<div>\n",
       "<table border=\"1\" class=\"dataframe\">\n",
       "  <thead>\n",
       "    <tr style=\"text-align: right;\">\n",
       "      <th></th>\n",
       "      <th>Cumulative demand</th>\n",
       "      <th>Period shocks</th>\n",
       "      <th>Average price</th>\n",
       "      <th>Target price</th>\n",
       "      <th>Update?</th>\n",
       "    </tr>\n",
       "  </thead>\n",
       "  <tbody>\n",
       "    <tr>\n",
       "      <th>90</th>\n",
       "      <td>-1.474313</td>\n",
       "      <td>-0.504943</td>\n",
       "      <td>-1.311549</td>\n",
       "      <td>-1.360379</td>\n",
       "      <td>No</td>\n",
       "    </tr>\n",
       "    <tr>\n",
       "      <th>91</th>\n",
       "      <td>-1.528274</td>\n",
       "      <td>-0.053961</td>\n",
       "      <td>-1.319096</td>\n",
       "      <td>-1.381849</td>\n",
       "      <td>No</td>\n",
       "    </tr>\n",
       "    <tr>\n",
       "      <th>92</th>\n",
       "      <td>-1.918498</td>\n",
       "      <td>-0.390224</td>\n",
       "      <td>-1.327882</td>\n",
       "      <td>-1.505067</td>\n",
       "      <td>No</td>\n",
       "    </tr>\n",
       "    <tr>\n",
       "      <th>93</th>\n",
       "      <td>-2.097688</td>\n",
       "      <td>-0.179191</td>\n",
       "      <td>-1.348928</td>\n",
       "      <td>-1.573556</td>\n",
       "      <td>No</td>\n",
       "    </tr>\n",
       "    <tr>\n",
       "      <th>94</th>\n",
       "      <td>-1.881274</td>\n",
       "      <td>0.216414</td>\n",
       "      <td>-1.375988</td>\n",
       "      <td>-1.527574</td>\n",
       "      <td>Yes</td>\n",
       "    </tr>\n",
       "    <tr>\n",
       "      <th>95</th>\n",
       "      <td>-2.013247</td>\n",
       "      <td>-0.131973</td>\n",
       "      <td>-1.396535</td>\n",
       "      <td>-1.581549</td>\n",
       "      <td>No</td>\n",
       "    </tr>\n",
       "    <tr>\n",
       "      <th>96</th>\n",
       "      <td>-2.124418</td>\n",
       "      <td>-0.111171</td>\n",
       "      <td>-1.421511</td>\n",
       "      <td>-1.632383</td>\n",
       "      <td>No</td>\n",
       "    </tr>\n",
       "    <tr>\n",
       "      <th>97</th>\n",
       "      <td>-2.348634</td>\n",
       "      <td>-0.224217</td>\n",
       "      <td>-1.450376</td>\n",
       "      <td>-1.719853</td>\n",
       "      <td>No</td>\n",
       "    </tr>\n",
       "    <tr>\n",
       "      <th>98</th>\n",
       "      <td>-2.306600</td>\n",
       "      <td>0.042034</td>\n",
       "      <td>-1.486845</td>\n",
       "      <td>-1.732772</td>\n",
       "      <td>No</td>\n",
       "    </tr>\n",
       "    <tr>\n",
       "      <th>99</th>\n",
       "      <td>-2.290446</td>\n",
       "      <td>0.016154</td>\n",
       "      <td>-1.522507</td>\n",
       "      <td>-1.752889</td>\n",
       "      <td>No</td>\n",
       "    </tr>\n",
       "  </tbody>\n",
       "</table>\n",
       "</div>"
      ],
      "text/plain": [
       "    Cumulative demand  Period shocks  Average price  Target price Update?\n",
       "90          -1.474313      -0.504943      -1.311549     -1.360379      No\n",
       "91          -1.528274      -0.053961      -1.319096     -1.381849      No\n",
       "92          -1.918498      -0.390224      -1.327882     -1.505067      No\n",
       "93          -2.097688      -0.179191      -1.348928     -1.573556      No\n",
       "94          -1.881274       0.216414      -1.375988     -1.527574     Yes\n",
       "95          -2.013247      -0.131973      -1.396535     -1.581549      No\n",
       "96          -2.124418      -0.111171      -1.421511     -1.632383      No\n",
       "97          -2.348634      -0.224217      -1.450376     -1.719853      No\n",
       "98          -2.306600       0.042034      -1.486845     -1.732772      No\n",
       "99          -2.290446       0.016154      -1.522507     -1.752889      No"
      ]
     },
     "execution_count": 116,
     "metadata": {},
     "output_type": "execute_result"
    }
   ],
   "source": [
    "demand.tail(10)"
   ]
  },
  {
   "cell_type": "markdown",
   "metadata": {},
   "source": [
    "With these updates cemented, we can determine what the agent's price is at that given time -- they just set it to the target price, which they can derive due to their observation of demand. Once they update, however, they don't change their target price at all. After all, without information, their expectation of epsilon, the change in demand each period, is 0. "
   ]
  },
  {
   "cell_type": "code",
   "execution_count": 117,
   "metadata": {
    "collapsed": true
   },
   "outputs": [],
   "source": [
    "agent_price = []\n",
    "curr_price = 0\n",
    "for t in range(pds):\n",
    "    if update_check[t] == \"Yes\": \n",
    "        agent_price.append(p_target(t))\n",
    "        curr_price = p_target(t)\n",
    "    else: agent_price.append(curr_price)\n",
    "demand[\"Agent price\"] = agent_price"
   ]
  },
  {
   "cell_type": "code",
   "execution_count": 118,
   "metadata": {
    "collapsed": false
   },
   "outputs": [
    {
     "data": {
      "text/html": [
       "<div>\n",
       "<table border=\"1\" class=\"dataframe\">\n",
       "  <thead>\n",
       "    <tr style=\"text-align: right;\">\n",
       "      <th></th>\n",
       "      <th>Cumulative demand</th>\n",
       "      <th>Period shocks</th>\n",
       "      <th>Average price</th>\n",
       "      <th>Target price</th>\n",
       "      <th>Update?</th>\n",
       "      <th>Agent price</th>\n",
       "    </tr>\n",
       "  </thead>\n",
       "  <tbody>\n",
       "    <tr>\n",
       "      <th>90</th>\n",
       "      <td>-1.474313</td>\n",
       "      <td>-0.504943</td>\n",
       "      <td>-1.311549</td>\n",
       "      <td>-1.360379</td>\n",
       "      <td>No</td>\n",
       "      <td>-1.308100</td>\n",
       "    </tr>\n",
       "    <tr>\n",
       "      <th>91</th>\n",
       "      <td>-1.528274</td>\n",
       "      <td>-0.053961</td>\n",
       "      <td>-1.319096</td>\n",
       "      <td>-1.381849</td>\n",
       "      <td>No</td>\n",
       "      <td>-1.308100</td>\n",
       "    </tr>\n",
       "    <tr>\n",
       "      <th>92</th>\n",
       "      <td>-1.918498</td>\n",
       "      <td>-0.390224</td>\n",
       "      <td>-1.327882</td>\n",
       "      <td>-1.505067</td>\n",
       "      <td>No</td>\n",
       "      <td>-1.308100</td>\n",
       "    </tr>\n",
       "    <tr>\n",
       "      <th>93</th>\n",
       "      <td>-2.097688</td>\n",
       "      <td>-0.179191</td>\n",
       "      <td>-1.348928</td>\n",
       "      <td>-1.573556</td>\n",
       "      <td>No</td>\n",
       "      <td>-1.308100</td>\n",
       "    </tr>\n",
       "    <tr>\n",
       "      <th>94</th>\n",
       "      <td>-1.881274</td>\n",
       "      <td>0.216414</td>\n",
       "      <td>-1.375988</td>\n",
       "      <td>-1.527574</td>\n",
       "      <td>Yes</td>\n",
       "      <td>-1.527574</td>\n",
       "    </tr>\n",
       "    <tr>\n",
       "      <th>95</th>\n",
       "      <td>-2.013247</td>\n",
       "      <td>-0.131973</td>\n",
       "      <td>-1.396535</td>\n",
       "      <td>-1.581549</td>\n",
       "      <td>No</td>\n",
       "      <td>-1.527574</td>\n",
       "    </tr>\n",
       "    <tr>\n",
       "      <th>96</th>\n",
       "      <td>-2.124418</td>\n",
       "      <td>-0.111171</td>\n",
       "      <td>-1.421511</td>\n",
       "      <td>-1.632383</td>\n",
       "      <td>No</td>\n",
       "      <td>-1.527574</td>\n",
       "    </tr>\n",
       "    <tr>\n",
       "      <th>97</th>\n",
       "      <td>-2.348634</td>\n",
       "      <td>-0.224217</td>\n",
       "      <td>-1.450376</td>\n",
       "      <td>-1.719853</td>\n",
       "      <td>No</td>\n",
       "      <td>-1.527574</td>\n",
       "    </tr>\n",
       "    <tr>\n",
       "      <th>98</th>\n",
       "      <td>-2.306600</td>\n",
       "      <td>0.042034</td>\n",
       "      <td>-1.486845</td>\n",
       "      <td>-1.732772</td>\n",
       "      <td>No</td>\n",
       "      <td>-1.527574</td>\n",
       "    </tr>\n",
       "    <tr>\n",
       "      <th>99</th>\n",
       "      <td>-2.290446</td>\n",
       "      <td>0.016154</td>\n",
       "      <td>-1.522507</td>\n",
       "      <td>-1.752889</td>\n",
       "      <td>No</td>\n",
       "      <td>-1.527574</td>\n",
       "    </tr>\n",
       "  </tbody>\n",
       "</table>\n",
       "</div>"
      ],
      "text/plain": [
       "    Cumulative demand  Period shocks  Average price  Target price Update?  \\\n",
       "90          -1.474313      -0.504943      -1.311549     -1.360379      No   \n",
       "91          -1.528274      -0.053961      -1.319096     -1.381849      No   \n",
       "92          -1.918498      -0.390224      -1.327882     -1.505067      No   \n",
       "93          -2.097688      -0.179191      -1.348928     -1.573556      No   \n",
       "94          -1.881274       0.216414      -1.375988     -1.527574     Yes   \n",
       "95          -2.013247      -0.131973      -1.396535     -1.581549      No   \n",
       "96          -2.124418      -0.111171      -1.421511     -1.632383      No   \n",
       "97          -2.348634      -0.224217      -1.450376     -1.719853      No   \n",
       "98          -2.306600       0.042034      -1.486845     -1.732772      No   \n",
       "99          -2.290446       0.016154      -1.522507     -1.752889      No   \n",
       "\n",
       "    Agent price  \n",
       "90    -1.308100  \n",
       "91    -1.308100  \n",
       "92    -1.308100  \n",
       "93    -1.308100  \n",
       "94    -1.527574  \n",
       "95    -1.527574  \n",
       "96    -1.527574  \n",
       "97    -1.527574  \n",
       "98    -1.527574  \n",
       "99    -1.527574  "
      ]
     },
     "execution_count": 118,
     "metadata": {},
     "output_type": "execute_result"
    }
   ],
   "source": [
    "demand.tail(10)"
   ]
  },
  {
   "cell_type": "code",
   "execution_count": 119,
   "metadata": {
    "collapsed": false
   },
   "outputs": [
    {
     "data": {
      "text/plain": [
       "<matplotlib.axes._subplots.AxesSubplot at 0x213867d42e8>"
      ]
     },
     "execution_count": 119,
     "metadata": {},
     "output_type": "execute_result"
    },
    {
     "data": {
      "image/png": "[encoded data removed]",
      "text/plain": [
       "<matplotlib.figure.Figure at 0x213852d5780>"
      ]
     },
     "metadata": {},
     "output_type": "display_data"
    },
    {
     "data": {
      "image/png": "[encoded data removed]",
      "text/plain": [
       "<matplotlib.figure.Figure at 0x213852d50b8>"
      ]
     },
     "metadata": {},
     "output_type": "display_data"
    }
   ],
   "source": [
    "fig4, ax4 = plt.subplots()\n",
    "ax4.set_xlabel('Period')\n",
    "ax4.set_ylabel('Price (Natural Log)')\n",
    "ax4.set_ylim(ax1.get_ylim())\n",
    "\n",
    "fig3, ax3 = plt.subplots()\n",
    "ax3.set_xlabel('Period')\n",
    "ax3.set_ylabel('Price (Natural Log)')\n",
    "ax3.set_ylim(ax1.get_ylim())\n",
    "\n",
    "demand[[\"Agent price\", \"Target price\"]].plot(kind = 'line', ax = ax4)\n",
    "demand[[\"Agent price\", \"Average price\"]].plot(kind = 'line', ax = ax3)"
   ]
  },
  {
   "cell_type": "markdown",
   "metadata": {},
   "source": [
    "You can hit \"Run All\" to see a new demand walk and the new results that emerge.\n",
    "\n",
    "**Conclusion**\n",
    "\n",
    "Reis provides a compelling model because it accurately reflects many of the market conditions that are most relevant to producers on a small level. Inattention is an attractive model because, in many ways, it reflects an organization's approach to learning. That is, a human may be passively observing the world around them all the time, but for an organization like a firm to collect information requires sophisticated, thorough and costly actions. It is an active decision for a firm to conduct research. \n",
    "\n",
    "That said, I did somewhat gloss over the way that lambda -- that is, the updating pattern of the macroeconomy -- was decided. I specified one equilibrium updating pattern, but in truth there are infinitely many, and as far as my understanding goes there is not one that necessarily emerges from the updating pattern of individuals. In other words, the simplified model does not bridge the macro-micro gap fully. It treats the macroeconomy as somewhat exogenous when determining how the micro agent behaves. For example, it may well be that, in a more realistic model, there would be some producers who don't update in a rational way and whose irrational updating schedule prompts the rest of the economy to chase. "
   ]
  }
 ],
 "metadata": {
  "kernelspec": {
   "display_name": "Python 3",
   "language": "python",
   "name": "python3"
  },
  "language_info": {
   "codemirror_mode": {
    "name": "ipython",
    "version": 3
   },
   "file_extension": ".py",
   "mimetype": "text/x-python",
   "name": "python",
   "nbconvert_exporter": "python",
   "pygments_lexer": "ipython3",
   "version": "3.5.1"
  }
 },
 "nbformat": 4,
 "nbformat_minor": 0
}
